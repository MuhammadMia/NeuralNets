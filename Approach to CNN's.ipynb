{
 "metadata": {
  "language_info": {
   "codemirror_mode": {
    "name": "ipython",
    "version": 3
   },
   "file_extension": ".py",
   "mimetype": "text/x-python",
   "name": "python",
   "nbconvert_exporter": "python",
   "pygments_lexer": "ipython3",
   "version": "3.8.10"
  },
  "orig_nbformat": 2,
  "kernelspec": {
   "name": "python3",
   "display_name": "Python 3.8.10 64-bit (windows store)",
   "metadata": {
    "interpreter": {
     "hash": "705abe06a65e8cc710549f31fafd994ab8ae41c68683faf5bae4d48d18f4c66e"
    }
   }
  }
 },
 "nbformat": 4,
 "nbformat_minor": 2,
 "cells": [
  {
   "source": [
    "# Approaching Neural Networks\n",
    "\n",
    "## Inputs\n",
    "\n",
    "Represent every feature or parametre of a dataset as a matrix"
   ],
   "cell_type": "markdown",
   "metadata": {}
  },
  {
   "cell_type": "code",
   "execution_count": null,
   "metadata": {},
   "outputs": [],
   "source": [
    "import numpy as np\n",
    "\n",
    "inputs = [1, 5, 7]\n",
    "\n",
    "print(inputs)"
   ]
  }
 ]
}